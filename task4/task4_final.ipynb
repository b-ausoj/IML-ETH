{
 "cells": [
  {
   "attachments": {},
   "cell_type": "markdown",
   "metadata": {},
   "source": [
    "## Imports"
   ]
  },
  {
   "cell_type": "code",
   "execution_count": 13,
   "metadata": {},
   "outputs": [],
   "source": [
    "import pandas as pd\n",
    "import numpy as np\n",
    "import re\n",
    "import copy\n",
    "import torch\n",
    "import torch.nn as nn\n",
    "import torch.nn.functional as F\n",
    "import torch.optim as optim\n",
    "\n",
    "from rdkit import Chem\n",
    "from torch.utils.data import DataLoader, TensorDataset\n",
    "from sklearn.metrics import mean_squared_error, explained_variance_score\n",
    "from sklearn.pipeline import Pipeline\n",
    "from sklearn.model_selection import train_test_split\n",
    "from sklearn.linear_model import RidgeCV\n",
    "from sklearn.base import BaseEstimator, TransformerMixin"
   ]
  },
  {
   "attachments": {},
   "cell_type": "markdown",
   "metadata": {},
   "source": [
    "## Load data"
   ]
  },
  {
   "cell_type": "code",
   "execution_count": 14,
   "metadata": {},
   "outputs": [],
   "source": [
    "x_pretrain = pd.read_csv(\"public/pretrain_features.csv.zip\", index_col=\"Id\", compression='zip').drop(\"smiles\", axis=1).to_numpy()\n",
    "smiles_pretrain = pd.read_csv(\"public/pretrain_features.csv.zip\", usecols=[\"smiles\"], compression='zip').to_numpy().squeeze(-1)\n",
    "y_pretrain = pd.read_csv(\"public/pretrain_labels.csv.zip\", index_col=\"Id\", compression='zip').to_numpy().squeeze(-1)\n",
    "x_train = pd.read_csv(\"public/train_features.csv.zip\", index_col=\"Id\", compression='zip').drop(\"smiles\", axis=1).to_numpy()\n",
    "smiles_train = pd.read_csv(\"public/train_features.csv.zip\", usecols=[\"smiles\"], compression='zip').to_numpy().squeeze(-1)\n",
    "y_train = torch.tensor(pd.read_csv(\"public/train_labels.csv.zip\", index_col=\"Id\", compression='zip').to_numpy().squeeze(-1), dtype=torch.float, requires_grad=False)\n",
    "x_test = pd.read_csv(\"public/test_features.csv.zip\", index_col=\"Id\", compression='zip').drop(\"smiles\", axis=1)\n",
    "smiles_test = pd.read_csv(\"public/test_features.csv.zip\", usecols=[\"smiles\"], compression='zip').to_numpy().squeeze(-1)"
   ]
  },
  {
   "attachments": {},
   "cell_type": "markdown",
   "metadata": {},
   "source": [
    "## Smiles features"
   ]
  },
  {
   "cell_type": "code",
   "execution_count": 15,
   "metadata": {},
   "outputs": [],
   "source": [
    "def get_other_features(smiles):\n",
    "    x = np.zeros((len(smiles), 19))\n",
    "    for i in range(len(smiles)):\n",
    "        smile = str(smiles[i])\n",
    "        mol = Chem.MolFromSmiles(smile)\n",
    "        x[i][0] = len(smile)\n",
    "        x[i][1] = smile.count(\"c\")\n",
    "        x[i][2] = smile.count(\"C\")\n",
    "        x[i][3] = smile.count(\"s\")\n",
    "        x[i][4] = smile.count(\"-\")\n",
    "        x[i][5] = smile.count(\"nH\")\n",
    "        x[i][6] = smile.count(\"SiH2\")\n",
    "        x[i][7] = len(set(smile))\n",
    "        x[i][8] = smile.count(\"=\")\n",
    "        x[i][9] = smile.count(\"o\")\n",
    "        x[i][10] = smile.count(\"e\")\n",
    "        x[i][11] = smile.count(\"cc\")\n",
    "        x[i][12] = smile.count(\"ccc\")\n",
    "        x[i][13] = max([int(s) for s in re.findall(r'\\d', smile)])\n",
    "        x[i][14] = smile.count(\"(\")\n",
    "        x[i][15] = mol.GetRingInfo().NumRings()\n",
    "        x[i][16] = sum(1 for bond in mol.GetBonds() if bond.GetBondType() == Chem.rdchem.BondType.SINGLE)\n",
    "        x[i][17] = sum(1 for bond in mol.GetBonds() if bond.GetBondType() == Chem.rdchem.BondType.DOUBLE)\n",
    "        x[i][18] = sum(1 for atom in mol.GetAtoms() if atom.GetHybridization().name == 'SP2')\n",
    "    return x"
   ]
  },
  {
   "attachments": {},
   "cell_type": "markdown",
   "metadata": {},
   "source": [
    "## Neural Net"
   ]
  },
  {
   "cell_type": "code",
   "execution_count": 16,
   "metadata": {},
   "outputs": [],
   "source": [
    "class Net(nn.Module):\n",
    "\n",
    "    def __init__(self, ad, hn1, hn2, do1, do2):\n",
    "        super().__init__()\n",
    "        self.fc1 = nn.Linear((ad), hn1)\n",
    "        self.drop1 = nn.Dropout(do1)\n",
    "        self.fc3 = nn.Linear(hn1, hn2)\n",
    "        self.drop2 = nn.Dropout(do2)\n",
    "        self.fc2 = nn.Linear(hn2, 1)\n",
    "\n",
    "    def forward(self, x):\n",
    "        x = F.relu(self.fc1(x))\n",
    "        x = self.drop1(x)\n",
    "        x = F.relu(self.fc3(x))\n",
    "        x = self.drop2(x)\n",
    "        x = self.fc2(x)\n",
    "        x = x.squeeze()\n",
    "        return x"
   ]
  },
  {
   "attachments": {},
   "cell_type": "markdown",
   "metadata": {},
   "source": [
    "## Feature extractor"
   ]
  },
  {
   "cell_type": "code",
   "execution_count": 17,
   "metadata": {},
   "outputs": [],
   "source": [
    "def make_feature_extractor(x, smiles, y, batch_size=64, eval_size=1000, n_epochs=5):\n",
    "    # Pretraining data loading\n",
    "    in_features = x.shape[-1]\n",
    "    x = get_other_features(smiles)\n",
    "    #x = np.concatenate((x, xs), axis=1)\n",
    "    x_tr, x_val, y_tr, y_val = train_test_split(x, y, test_size=eval_size, random_state=0, shuffle=True)\n",
    "    \n",
    "    x_tr, x_val = torch.tensor(x_tr, dtype=torch.float, requires_grad=False), torch.tensor(x_val, dtype=torch.float, requires_grad=False)\n",
    "    y_tr, y_val = torch.tensor(y_tr, dtype=torch.float, requires_grad=False), torch.tensor(y_val, dtype=torch.float, requires_grad=False)\n",
    "\n",
    "    dataset_tr = TensorDataset(x_tr, y_tr)\n",
    "    dataset_val = TensorDataset(x_val, y_val)\n",
    "    loader_tr = DataLoader(dataset=dataset_tr, batch_size=batch_size, shuffle=True, num_workers=8)\n",
    "    loader_val = DataLoader(dataset=dataset_val, batch_size=batch_size, shuffle=True, num_workers=8)\n",
    "\n",
    "    # model declaration\n",
    "    model = Net(ad=19, hn1=250, hn2=40, do1=0.1, do2=0.1)\n",
    "    model.train()\n",
    "    \n",
    "    validation = False\n",
    "    optimizer = optim.Adam(model.parameters(), lr=0.01)\n",
    "    criterion = nn.MSELoss()\n",
    "    last_loss = 100\n",
    "\n",
    "    for epoch in range(n_epochs):\n",
    "        print(f'epoch: {epoch}')\n",
    "        \n",
    "        # validation  \n",
    "        model.eval()\n",
    "        running_loss = 0.0   \n",
    "        for i, [X, y] in enumerate(loader_val):\n",
    "            optimizer.zero_grad()\n",
    "            output = model(X)\n",
    "            loss = criterion(output, y)\n",
    "            running_loss += loss.item()\n",
    "        running_loss /= i\n",
    "        print(f'validation loss: {running_loss :.3f}')\n",
    "        if (validation and last_loss <= running_loss + 0.002): break\n",
    "        last_loss = running_loss\n",
    "\n",
    "        # training  \n",
    "        model.train()\n",
    "        running_loss = 0.0      \n",
    "        for i, [X, y] in enumerate(loader_tr):\n",
    "            output = model(X)\n",
    "            loss = criterion(output, y)\n",
    "            optimizer.zero_grad()\n",
    "            loss.backward()\n",
    "            optimizer.step()\n",
    "            running_loss += loss.item()\n",
    "        print(f'training loss: {running_loss / i:.3f}')\n",
    "        running_loss = 0.0\n",
    "\n",
    "\n",
    "    def make_features(x):\n",
    "        xs = get_other_features(x[1])\n",
    "        xst = torch.tensor(xs)\n",
    "        x = np.concatenate((x[0], xs), axis=1)\n",
    "        x = torch.tensor(x, dtype=torch.float, requires_grad=False)\n",
    "        \n",
    "        with torch.no_grad():\n",
    "            model.eval()\n",
    "            x_LUMO = torch.unsqueeze(model(x), 1)\n",
    "            model_ = copy.deepcopy(model)\n",
    "            model_.fc2 = nn.Sequential()\n",
    "            model_.eval()\n",
    "            x = model_(x)\n",
    "            x = torch.cat((x, x_LUMO, xst), 1)\n",
    "        return x\n",
    "\n",
    "    return make_features"
   ]
  },
  {
   "cell_type": "code",
   "execution_count": 18,
   "metadata": {},
   "outputs": [],
   "source": [
    "def make_pretraining_class(feature_extractors):\n",
    "\n",
    "    class PretrainedFeatures(BaseEstimator, TransformerMixin):\n",
    "\n",
    "        def __init__(self, *, feature_extractor=None, mode=None):\n",
    "            self.feature_extractor = feature_extractor\n",
    "            self.mode = mode\n",
    "\n",
    "        def fit(self, X=None, y=None):\n",
    "            return self\n",
    "\n",
    "        def transform(self, X):\n",
    "            assert self.feature_extractor is not None\n",
    "            X_new = feature_extractors[self.feature_extractor](X)\n",
    "            return X_new\n",
    "        \n",
    "    return PretrainedFeatures"
   ]
  },
  {
   "attachments": {},
   "cell_type": "markdown",
   "metadata": {},
   "source": [
    "## Training"
   ]
  },
  {
   "cell_type": "code",
   "execution_count": null,
   "metadata": {},
   "outputs": [],
   "source": [
    "\n",
    "torch.manual_seed(0)\n",
    "feature_extractor =  make_feature_extractor(x_pretrain, smiles_pretrain, y_pretrain)\n",
    "PretrainedFeatureClass = make_pretraining_class({\"pretrain\": feature_extractor})\n"
   ]
  },
  {
   "attachments": {},
   "cell_type": "markdown",
   "metadata": {},
   "source": [
    "## Validation"
   ]
  },
  {
   "cell_type": "code",
   "execution_count": 20,
   "metadata": {},
   "outputs": [
    {
     "name": "stdout",
     "output_type": "stream",
     "text": [
      "0.12833352477569837\n",
      "0.8266200336923569\n"
     ]
    }
   ],
   "source": [
    "#regression_model = LinearRegression(fit_intercept=True)\n",
    "#regression_model = MLPRegressor(hidden_layer_sizes=(10), activation='relu', solver='lbfgs')\n",
    "regression_model = RidgeCV()\n",
    "\n",
    "score = 0\n",
    "variance = 0\n",
    "iter = 100\n",
    "for i in range(iter):\n",
    "    pipe_split = Pipeline(steps=[('feature_extraction', PretrainedFeatureClass(feature_extractor=\"pretrain\")), ('model', regression_model)])\n",
    "    x_train_tr, x_train_val, smiles_train_tr, smiles_train_val, y_train_tr, y_train_val = train_test_split(x_train, smiles_train, y_train, test_size=10, shuffle=True, random_state=i)\n",
    "    pipe_split.fit((x_train_tr, smiles_train_tr), y_train_tr)\n",
    "    variance += explained_variance_score(y_train_val, pipe_split.predict((x_train_val, smiles_train_val)))\n",
    "    score += mean_squared_error(y_train_val, pipe_split.predict((x_train_val, smiles_train_val)), squared=False)\n",
    "print(score/iter)\n",
    "print(variance/iter)\n"
   ]
  },
  {
   "attachments": {},
   "cell_type": "markdown",
   "metadata": {},
   "source": [
    "## Testing"
   ]
  },
  {
   "cell_type": "code",
   "execution_count": 21,
   "metadata": {},
   "outputs": [
    {
     "name": "stdout",
     "output_type": "stream",
     "text": [
      "Predictions saved, all done!\n"
     ]
    }
   ],
   "source": [
    "pipe = Pipeline(steps=[('feature_extraction', PretrainedFeatureClass(feature_extractor=\"pretrain\")), ('model', regression_model)])\n",
    "pipe.fit((x_train, smiles_train), y_train)\n",
    "\n",
    "x_test_ = x_test.to_numpy()\n",
    "y_pred = pipe.predict((x_test_, smiles_test))\n",
    "\n",
    "assert y_pred.shape == (x_test.shape[0],)\n",
    "y_pred = pd.DataFrame({\"y\": y_pred}, index=x_test.index)\n",
    "y_pred.to_csv(\"results.csv\", index_label=\"Id\")\n",
    "print(\"Predictions saved, all done!\")"
   ]
  },
  {
   "cell_type": "code",
   "execution_count": null,
   "metadata": {},
   "outputs": [],
   "source": []
  }
 ],
 "metadata": {
  "kernelspec": {
   "display_name": "base",
   "language": "python",
   "name": "python3"
  },
  "language_info": {
   "codemirror_mode": {
    "name": "ipython",
    "version": 3
   },
   "file_extension": ".py",
   "mimetype": "text/x-python",
   "name": "python",
   "nbconvert_exporter": "python",
   "pygments_lexer": "ipython3",
   "version": "3.9.16"
  },
  "orig_nbformat": 4
 },
 "nbformat": 4,
 "nbformat_minor": 2
}
